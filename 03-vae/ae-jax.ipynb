{
 "cells": [
  {
   "cell_type": "code",
   "execution_count": 1,
   "metadata": {},
   "outputs": [],
   "source": [
    "IMAGE_SHAPE = (32, 32, 1)\n",
    "NUM_CHANNELS = 1\n",
    "NUM_EPOCH = 20\n",
    "BATCH_SIZE = 100\n",
    "LEARNING_RATE = 3e-5\n",
    "EMBEDDING_DIM = 2"
   ]
  },
  {
   "cell_type": "markdown",
   "metadata": {},
   "source": [
    "# Helper functions"
   ]
  },
  {
   "cell_type": "code",
   "execution_count": 2,
   "metadata": {},
   "outputs": [],
   "source": [
    "import functools as ft\n",
    "\n",
    "compose = lambda *fs: ft.reduce(lambda f, g: lambda x: g(f(x)), fs)"
   ]
  },
  {
   "cell_type": "markdown",
   "metadata": {},
   "source": [
    "# Loading dataset"
   ]
  },
  {
   "cell_type": "code",
   "execution_count": 3,
   "metadata": {},
   "outputs": [],
   "source": [
    "import tensorflow as tf\n",
    "import tensorflow_datasets as tfds\n",
    "\n",
    "\n",
    "def preprocess(x):\n",
    "    \"\"\"Process the image\"\"\"\n",
    "    as_float = lambda x: tf.cast(x, tf.float32)\n",
    "    scaling = lambda x: x / 255. * 2. - 1\n",
    "    padding = lambda x: tf.pad(x, ((2, 2), (2, 2), (0, 0)), constant_values=-1.)\n",
    "    return compose(as_float, scaling, padding)(x)\n",
    "\n",
    "\n",
    "def get_dataset(num_epochs, batch_size):\n",
    "    \"\"\"The Fashion MNIST dataset loader\"\"\"\n",
    "\n",
    "    train_ds = tfds.load('fashion_mnist', split='train', shuffle_files=True)\n",
    "    test_ds = tfds.load('fashion_mnist', split='test')\n",
    "\n",
    "    # Mapping images as tf tensors\n",
    "    train_ds = train_ds.map(lambda sample: {'image': preprocess(sample['image']),\n",
    "                                            'label': sample['label']})\n",
    "    test_ds = test_ds.map(lambda sample: {'image': preprocess(sample['image']),\n",
    "                                          'label': sample['label']})\n",
    "\n",
    "    # TF dataloader\n",
    "    train_ds = train_ds.repeat(num_epochs).shuffle(1024)\n",
    "    train_ds = train_ds.batch(batch_size, drop_remainder=True).prefetch(1)\n",
    "    test_ds = test_ds.shuffle(1024)\n",
    "    test_ds = test_ds.batch(batch_size, drop_remainder=True).prefetch(1)\n",
    "\n",
    "    return train_ds, test_ds"
   ]
  },
  {
   "cell_type": "code",
   "execution_count": 4,
   "metadata": {},
   "outputs": [],
   "source": [
    "train_ds, test_ds = get_dataset(NUM_EPOCH, BATCH_SIZE)\n",
    "assert train_ds.take(1).element_spec['image'].shape[1:] == IMAGE_SHAPE"
   ]
  },
  {
   "cell_type": "code",
   "execution_count": 5,
   "metadata": {},
   "outputs": [
    {
     "name": "stderr",
     "output_type": "stream",
     "text": [
      "2025-01-16 11:25:20.792007: W tensorflow/core/kernels/data/cache_dataset_ops.cc:914] The calling iterator did not fully read the dataset being cached. In order to avoid unexpected truncation of the dataset, the partially cached contents of the dataset  will be discarded. This can happen if you have an input pipeline similar to `dataset.cache().take(k).repeat()`. You should use `dataset.take(k).cache().repeat()` instead.\n"
     ]
    },
    {
     "data": {
      "image/png": "[encoded data removed]",
      "text/plain": [
       "<Figure size 800x600 with 10 Axes>"
      ]
     },
     "metadata": {},
     "output_type": "display_data"
    }
   ],
   "source": [
    "import matplotlib.pyplot as plt\n",
    "\n",
    "\n",
    "def display(images, n=10, size=(8,6), cmap=\"gray_r\", as_type=\"float32\", save_to=None, style=\"seaborn-v0_8\"):\n",
    "    \"\"\"\n",
    "    Displays n random images from each one of the supplied arrays.\n",
    "    \"\"\"\n",
    "    plt.style.use(style)\n",
    "\n",
    "    if images.max() > 1.0:\n",
    "        images = images / 255.0\n",
    "    elif images.min() < 0.0:\n",
    "        images = (images + 1.0) / 2.0\n",
    "\n",
    "\n",
    "    plt.figure(figsize=size)\n",
    "    for i in range(n):\n",
    "        _ = plt.subplot(1, n, i + 1)\n",
    "        img =  images[i]\n",
    "        plt.imshow(img.astype(as_type), cmap=cmap)\n",
    "        plt.axis(\"off\")\n",
    "\n",
    "    if save_to:\n",
    "        plt.savefig(save_to)\n",
    "        print(f\"\\nSaved to {save_to}\")\n",
    "\n",
    "    plt.show()\n",
    "\n",
    "\n",
    "samples = next(train_ds.as_numpy_iterator())\n",
    "display(samples['image'])"
   ]
  },
  {
   "cell_type": "markdown",
   "metadata": {},
   "source": [
    "# Encoder"
   ]
  },
  {
   "cell_type": "code",
   "execution_count": 6,
   "metadata": {},
   "outputs": [],
   "source": [
    "from typing import Sequence, Callable\n",
    "from dataclasses import dataclass\n",
    "\n",
    "import jax\n",
    "from jax import numpy as jnp\n",
    "from flax import nnx\n",
    "\n",
    "\n",
    "class Encoder(nnx.Module):\n",
    "\n",
    "    def __init__(self, din: int, dout: int, *, rngs: nnx.Rngs):\n",
    "\n",
    "        self.layers = [\n",
    "            nnx.Conv(in_features=din, out_features=32, kernel_size=(3, 3), strides=2, rngs=rngs),\n",
    "            nnx.gelu,\n",
    "            nnx.Conv(in_features=32, out_features=32, kernel_size=(3, 3), rngs=rngs),\n",
    "            nnx.gelu,\n",
    "            nnx.Conv(in_features=32, out_features=64, kernel_size=(3, 3), strides=2, rngs=rngs),\n",
    "            nnx.gelu,\n",
    "            nnx.Conv(in_features=64, out_features=64, kernel_size=(3, 3), rngs=rngs),\n",
    "            nnx.gelu,\n",
    "            nnx.Conv(in_features=64, out_features=128, kernel_size=(3, 3), strides=2, rngs=rngs),\n",
    "            nnx.gelu,\n",
    "            lambda x: x.reshape(x.shape[0], -1),\n",
    "            nnx.Linear(in_features=2048, out_features=dout, rngs=rngs)\n",
    "        ]\n",
    "\n",
    "    def __call__(self, x: jax.Array) -> jax.Array:\n",
    "        return compose(*self.layers)(x)\n",
    "\n",
    "# @dataclass\n",
    "# class EncoderConfig:\n",
    "#     din: int =  NUM_CHANNELS\n",
    "#     dout: int = EMBEDDING_DIM\n",
    "#     conv_filters: Sequence[int] = (32, 64, 128)\n",
    "#     conv_strides: Sequence[int] = (2, 2, 2)\n",
    "#     kernel_size: tuple[int] = (3, 3)\n",
    "#     activation: Callable = nnx.relu\n",
    "\n",
    "\n",
    "# class Encoder(nnx.Module):\n",
    "\n",
    "#     def __init__(self, *, config: EncoderConfig, rngs: nnx.Rngs):\n",
    "\n",
    "#         conv_features = [config.din] + list(config.conv_filters)\n",
    "\n",
    "#         self.layers = []\n",
    "#         for i in range(len(conv_features) - 1):\n",
    "#             self.layers += [\n",
    "#                  nnx.Conv(\n",
    "#                     in_features=conv_features[i],\n",
    "#                     out_features=conv_features[i+1],\n",
    "#                     kernel_size=config.kernel_size,\n",
    "#                     strides=config.conv_strides[i],\n",
    "#                     padding=\"SAME\",\n",
    "#                     rngs=rngs\n",
    "#                 ),\n",
    "#                 config.activation\n",
    "#             ]\n",
    "\n",
    "#         self.layers.append(compose(jax.vmap(jnp.ravel)))\n",
    "#         self.layers.append(nnx.Linear(in_features=4*4*128, out_features=config.dout, rngs=rngs))\n",
    "\n",
    "#     def __call__(self, x: jax.Array) -> jax.Array:\n",
    "#         return compose(*self.layers)(x)"
   ]
  },
  {
   "cell_type": "code",
   "execution_count": 7,
   "metadata": {},
   "outputs": [
    {
     "name": "stderr",
     "output_type": "stream",
     "text": [
      "WARNING:jax._src.xla_bridge:Platform 'METAL' is experimental and not all JAX functionality may be correctly supported!\n",
      "WARNING: All log messages before absl::InitializeLog() is called are written to STDERR\n",
      "W0000 00:00:1736987121.003966 22005384 mps_client.cc:510] WARNING: JAX Apple GPU support is experimental and not all JAX functionality is correctly supported!\n",
      "I0000 00:00:1736987121.026147 22005384 service.cc:145] XLA service 0x10b31edd0 initialized for platform METAL (this does not guarantee that XLA will be used). Devices:\n",
      "I0000 00:00:1736987121.026164 22005384 service.cc:153]   StreamExecutor device (0): Metal, <undefined>\n",
      "I0000 00:00:1736987121.032209 22005384 mps_client.cc:406] Using Simple allocator.\n",
      "I0000 00:00:1736987121.032234 22005384 mps_client.cc:384] XLA backend will use up to 51539214336 bytes on device 0 for SimpleAllocator.\n"
     ]
    },
    {
     "name": "stdout",
     "output_type": "stream",
     "text": [
      "Metal device set to: Apple M2 Max\n",
      "\n",
      "systemMemory: 64.00 GB\n",
      "maxCacheSize: 24.00 GB\n",
      "\n"
     ]
    },
    {
     "data": {
      "text/plain": [
       "(100, 2)"
      ]
     },
     "execution_count": 7,
     "metadata": {},
     "output_type": "execute_result"
    }
   ],
   "source": [
    "# encoder_config = EncoderConfig()\n",
    "# encoder = Encoder(config=encoder_config, rngs=nnx.Rngs(0))\n",
    "\n",
    "encoder = Encoder(din=IMAGE_SHAPE[-1], dout=EMBEDDING_DIM, rngs=nnx.Rngs(0))\n",
    "encoder(jnp.ones([BATCH_SIZE, *IMAGE_SHAPE])).shape"
   ]
  },
  {
   "cell_type": "code",
   "execution_count": 8,
   "metadata": {},
   "outputs": [
    {
     "name": "stdout",
     "output_type": "stream",
     "text": [
      "Encoder(\n",
      "  layers=[Conv(\n",
      "    kernel_shape=(3, 3, 1, 32),\n",
      "    kernel=Param(\n",
      "      value=Array(shape=(3, 3, 1, 32), dtype=float32)\n",
      "    ),\n",
      "    bias=Param(\n",
      "      value=Array(shape=(32,), dtype=float32)\n",
      "    ),\n",
      "    in_features=1,\n",
      "    out_features=32,\n",
      "    kernel_size=(3, 3),\n",
      "    strides=2,\n",
      "    padding='SAME',\n",
      "    input_dilation=1,\n",
      "    kernel_dilation=1,\n",
      "    feature_group_count=1,\n",
      "    use_bias=True,\n",
      "    mask=None,\n",
      "    dtype=None,\n",
      "    param_dtype=<class 'jax.numpy.float32'>,\n",
      "    precision=None,\n",
      "    kernel_init=<function variance_scaling.<locals>.init at 0x31b0f9ee0>,\n",
      "    bias_init=<function zeros at 0x168b12f20>,\n",
      "    conv_general_dilated=<function conv_general_dilated at 0x168533f60>\n",
      "  ), <function gelu at 0x168bfa3e0>, Conv(\n",
      "    kernel_shape=(3, 3, 32, 32),\n",
      "    kernel=Param(\n",
      "      value=Array(shape=(3, 3, 32, 32), dtype=float32)\n",
      "    ),\n",
      "    bias=Param(\n",
      "      value=Array(shape=(32,), dtype=float32)\n",
      "    ),\n",
      "    in_features=32,\n",
      "    out_features=32,\n",
      "    kernel_size=(3, 3),\n",
      "    strides=1,\n",
      "    padding='SAME',\n",
      "    input_dilation=1,\n",
      "    kernel_dilation=1,\n",
      "    feature_group_count=1,\n",
      "    use_bias=True,\n",
      "    mask=None,\n",
      "    dtype=None,\n",
      "    param_dtype=<class 'jax.numpy.float32'>,\n",
      "    precision=None,\n",
      "    kernel_init=<function variance_scaling.<locals>.init at 0x31b0f9ee0>,\n",
      "    bias_init=<function zeros at 0x168b12f20>,\n",
      "    conv_general_dilated=<function conv_general_dilated at 0x168533f60>\n",
      "  ), <function gelu at 0x168bfa3e0>, Conv(\n",
      "    kernel_shape=(3, 3, 32, 64),\n",
      "    kernel=Param(\n",
      "      value=Array(shape=(3, 3, 32, 64), dtype=float32)\n",
      "    ),\n",
      "    bias=Param(\n",
      "      value=Array(shape=(64,), dtype=float32)\n",
      "    ),\n",
      "    in_features=32,\n",
      "    out_features=64,\n",
      "    kernel_size=(3, 3),\n",
      "    strides=2,\n",
      "    padding='SAME',\n",
      "    input_dilation=1,\n",
      "    kernel_dilation=1,\n",
      "    feature_group_count=1,\n",
      "    use_bias=True,\n",
      "    mask=None,\n",
      "    dtype=None,\n",
      "    param_dtype=<class 'jax.numpy.float32'>,\n",
      "    precision=None,\n",
      "    kernel_init=<function variance_scaling.<locals>.init at 0x31b0f9ee0>,\n",
      "    bias_init=<function zeros at 0x168b12f20>,\n",
      "    conv_general_dilated=<function conv_general_dilated at 0x168533f60>\n",
      "  ), <function gelu at 0x168bfa3e0>, Conv(\n",
      "    kernel_shape=(3, 3, 64, 64),\n",
      "    kernel=Param(\n",
      "      value=Array(shape=(3, 3, 64, 64), dtype=float32)\n",
      "    ),\n",
      "    bias=Param(\n",
      "      value=Array(shape=(64,), dtype=float32)\n",
      "    ),\n",
      "    in_features=64,\n",
      "    out_features=64,\n",
      "    kernel_size=(3, 3),\n",
      "    strides=1,\n",
      "    padding='SAME',\n",
      "    input_dilation=1,\n",
      "    kernel_dilation=1,\n",
      "    feature_group_count=1,\n",
      "    use_bias=True,\n",
      "    mask=None,\n",
      "    dtype=None,\n",
      "    param_dtype=<class 'jax.numpy.float32'>,\n",
      "    precision=None,\n",
      "    kernel_init=<function variance_scaling.<locals>.init at 0x31b0f9ee0>,\n",
      "    bias_init=<function zeros at 0x168b12f20>,\n",
      "    conv_general_dilated=<function conv_general_dilated at 0x168533f60>\n",
      "  ), <function gelu at 0x168bfa3e0>, Conv(\n",
      "    kernel_shape=(3, 3, 64, 128),\n",
      "    kernel=Param(\n",
      "      value=Array(shape=(3, 3, 64, 128), dtype=float32)\n",
      "    ),\n",
      "    bias=Param(\n",
      "      value=Array(shape=(128,), dtype=float32)\n",
      "    ),\n",
      "    in_features=64,\n",
      "    out_features=128,\n",
      "    kernel_size=(3, 3),\n",
      "    strides=2,\n",
      "    padding='SAME',\n",
      "    input_dilation=1,\n",
      "    kernel_dilation=1,\n",
      "    feature_group_count=1,\n",
      "    use_bias=True,\n",
      "    mask=None,\n",
      "    dtype=None,\n",
      "    param_dtype=<class 'jax.numpy.float32'>,\n",
      "    precision=None,\n",
      "    kernel_init=<function variance_scaling.<locals>.init at 0x31b0f9ee0>,\n",
      "    bias_init=<function zeros at 0x168b12f20>,\n",
      "    conv_general_dilated=<function conv_general_dilated at 0x168533f60>\n",
      "  ), <function gelu at 0x168bfa3e0>, <function Encoder.__init__.<locals>.<lambda> at 0x33c7deb60>, Linear(\n",
      "    kernel=Param(\n",
      "      value=Array(shape=(2048, 2), dtype=float32)\n",
      "    ),\n",
      "    bias=Param(\n",
      "      value=Array(shape=(2,), dtype=float32)\n",
      "    ),\n",
      "    in_features=2048,\n",
      "    out_features=2,\n",
      "    use_bias=True,\n",
      "    dtype=None,\n",
      "    param_dtype=<class 'jax.numpy.float32'>,\n",
      "    precision=None,\n",
      "    kernel_init=<function variance_scaling.<locals>.init at 0x31b0f9ee0>,\n",
      "    bias_init=<function zeros at 0x168b12f20>,\n",
      "    dot_general=<function dot_general at 0x1684a4a40>\n",
      "  )]\n",
      ")\n"
     ]
    }
   ],
   "source": [
    "nnx.display(encoder)"
   ]
  },
  {
   "cell_type": "markdown",
   "metadata": {},
   "source": [
    "# Decoder"
   ]
  },
  {
   "cell_type": "code",
   "execution_count": 9,
   "metadata": {},
   "outputs": [],
   "source": [
    "class Decoder(nnx.Module):\n",
    "\n",
    "    def __init__(self, din: int, dout: int, *, rngs: nnx.Rngs):\n",
    "\n",
    "        self.layers = [\n",
    "            nnx.Linear(in_features=din, out_features=2048, rngs=rngs),\n",
    "            nnx.gelu,\n",
    "            lambda x: x.reshape(x.shape[0], 4, 4, 128),\n",
    "            nnx.ConvTranspose(in_features=128, out_features=64, kernel_size=(3, 3), strides=2, rngs=rngs),\n",
    "            nnx.gelu,\n",
    "            nnx.Conv(in_features=64, out_features=64, kernel_size=(3, 3), rngs=rngs),\n",
    "            nnx.gelu,\n",
    "            nnx.ConvTranspose(in_features=64, out_features=32, kernel_size=(3, 3), strides=2, rngs=rngs),\n",
    "            nnx.gelu,\n",
    "            nnx.Conv(in_features=32, out_features=32, kernel_size=(3, 3), rngs=rngs),\n",
    "            nnx.gelu,\n",
    "            nnx.ConvTranspose(in_features=32, out_features=dout, kernel_size=(3, 3), strides=2, rngs=rngs),\n",
    "            nnx.tanh\n",
    "        ]\n",
    "\n",
    "    def __call__(self, x: jax.Array) -> jax.Array:\n",
    "        return compose(*self.layers)(x)\n",
    "\n",
    "# @dataclass\n",
    "# class DecoderConfig:\n",
    "#     din: int = EMBEDDING_DIM\n",
    "#     dout: int = IMAGE_SHAPE[-1]\n",
    "#     conv_filters: Sequence[int] = (128, 64, 32)\n",
    "#     conv_strides: Sequence[int] = (2, 2, 2)\n",
    "#     kernel_size: Sequence[int] = (3, 3)\n",
    "#     activation: Callable = nnx.relu\n",
    "\n",
    "\n",
    "# class Decoder(nnx.Module):\n",
    "\n",
    "#     def __init__(self, *, config: DecoderConfig, rngs: nnx.Rngs):\n",
    "\n",
    "#         conv_features = list(config.conv_filters) + [config.dout]\n",
    "\n",
    "\n",
    "#         self.layers = [\n",
    "#             nnx.Linear(in_features=config.din, out_features=4*4*128, rngs=rngs),\n",
    "#             lambda x: x.reshape(x.shape[0], 4, 4, 128),\n",
    "#             config.activation\n",
    "#         ]\n",
    "\n",
    "#         for i in range(len(conv_features) - 1):\n",
    "#             self.layers += [\n",
    "#                 nnx.ConvTranspose(\n",
    "#                 in_features=conv_features[i],\n",
    "#                     out_features=conv_features[i+1],\n",
    "#                     kernel_size=config.kernel_size,\n",
    "#                     strides=config.conv_strides[i],\n",
    "#                     padding=\"SAME\",\n",
    "#                     rngs=rngs\n",
    "#                 )\n",
    "#             ]\n",
    "#             if i+1 < len(conv_features) - 1:\n",
    "#                 self.layers.append(config.activation)\n",
    "\n",
    "#     def __call__(self, x: jax.Array) -> jax.Array:\n",
    "#         return compose(*self.layers)(x)"
   ]
  },
  {
   "cell_type": "code",
   "execution_count": 10,
   "metadata": {},
   "outputs": [
    {
     "data": {
      "text/plain": [
       "(100, 32, 32, 1)"
      ]
     },
     "execution_count": 10,
     "metadata": {},
     "output_type": "execute_result"
    }
   ],
   "source": [
    "# decoder_config = DecoderConfig()\n",
    "# decoder = Decoder(config=decoder_config, rngs=nnx.Rngs(0))\n",
    "\n",
    "decoder = Decoder(din=EMBEDDING_DIM, dout=IMAGE_SHAPE[-1], rngs=nnx.Rngs(0))\n",
    "decoder(jnp.ones([BATCH_SIZE, EMBEDDING_DIM])).shape"
   ]
  },
  {
   "cell_type": "code",
   "execution_count": 11,
   "metadata": {},
   "outputs": [
    {
     "name": "stdout",
     "output_type": "stream",
     "text": [
      "Decoder(\n",
      "  layers=[Linear(\n",
      "    kernel=Param(\n",
      "      value=Array(shape=(2, 2048), dtype=float32)\n",
      "    ),\n",
      "    bias=Param(\n",
      "      value=Array(shape=(2048,), dtype=float32)\n",
      "    ),\n",
      "    in_features=2,\n",
      "    out_features=2048,\n",
      "    use_bias=True,\n",
      "    dtype=None,\n",
      "    param_dtype=<class 'jax.numpy.float32'>,\n",
      "    precision=None,\n",
      "    kernel_init=<function variance_scaling.<locals>.init at 0x31b0f9ee0>,\n",
      "    bias_init=<function zeros at 0x168b12f20>,\n",
      "    dot_general=<function dot_general at 0x1684a4a40>\n",
      "  ), <function gelu at 0x168bfa3e0>, <function Decoder.__init__.<locals>.<lambda> at 0x37388f1a0>, ConvTranspose(\n",
      "    kernel_size=(3, 3),\n",
      "    in_features=128,\n",
      "    out_features=64,\n",
      "    strides=2,\n",
      "    padding='SAME',\n",
      "    kernel_dilation=None,\n",
      "    use_bias=True,\n",
      "    mask=None,\n",
      "    dtype=None,\n",
      "    param_dtype=<class 'jax.numpy.float32'>,\n",
      "    precision=None,\n",
      "    kernel_init=<function variance_scaling.<locals>.init at 0x31b0f9ee0>,\n",
      "    bias_init=<function zeros at 0x168b12f20>,\n",
      "    transpose_kernel=False,\n",
      "    kernel_shape=(3, 3, 128, 64),\n",
      "    kernel=Param(\n",
      "      value=Array(shape=(3, 3, 128, 64), dtype=float32)\n",
      "    ),\n",
      "    bias=Param(\n",
      "      value=Array(shape=(64,), dtype=float32)\n",
      "    )\n",
      "  ), <function gelu at 0x168bfa3e0>, Conv(\n",
      "    kernel_shape=(3, 3, 64, 64),\n",
      "    kernel=Param(\n",
      "      value=Array(shape=(3, 3, 64, 64), dtype=float32)\n",
      "    ),\n",
      "    bias=Param(\n",
      "      value=Array(shape=(64,), dtype=float32)\n",
      "    ),\n",
      "    in_features=64,\n",
      "    out_features=64,\n",
      "    kernel_size=(3, 3),\n",
      "    strides=1,\n",
      "    padding='SAME',\n",
      "    input_dilation=1,\n",
      "    kernel_dilation=1,\n",
      "    feature_group_count=1,\n",
      "    use_bias=True,\n",
      "    mask=None,\n",
      "    dtype=None,\n",
      "    param_dtype=<class 'jax.numpy.float32'>,\n",
      "    precision=None,\n",
      "    kernel_init=<function variance_scaling.<locals>.init at 0x31b0f9ee0>,\n",
      "    bias_init=<function zeros at 0x168b12f20>,\n",
      "    conv_general_dilated=<function conv_general_dilated at 0x168533f60>\n",
      "  ), <function gelu at 0x168bfa3e0>, ConvTranspose(\n",
      "    kernel_size=(3, 3),\n",
      "    in_features=64,\n",
      "    out_features=32,\n",
      "    strides=2,\n",
      "    padding='SAME',\n",
      "    kernel_dilation=None,\n",
      "    use_bias=True,\n",
      "    mask=None,\n",
      "    dtype=None,\n",
      "    param_dtype=<class 'jax.numpy.float32'>,\n",
      "    precision=None,\n",
      "    kernel_init=<function variance_scaling.<locals>.init at 0x31b0f9ee0>,\n",
      "    bias_init=<function zeros at 0x168b12f20>,\n",
      "    transpose_kernel=False,\n",
      "    kernel_shape=(3, 3, 64, 32),\n",
      "    kernel=Param(\n",
      "      value=Array(shape=(3, 3, 64, 32), dtype=float32)\n",
      "    ),\n",
      "    bias=Param(\n",
      "      value=Array(shape=(32,), dtype=float32)\n",
      "    )\n",
      "  ), <function gelu at 0x168bfa3e0>, Conv(\n",
      "    kernel_shape=(3, 3, 32, 32),\n",
      "    kernel=Param(\n",
      "      value=Array(shape=(3, 3, 32, 32), dtype=float32)\n",
      "    ),\n",
      "    bias=Param(\n",
      "      value=Array(shape=(32,), dtype=float32)\n",
      "    ),\n",
      "    in_features=32,\n",
      "    out_features=32,\n",
      "    kernel_size=(3, 3),\n",
      "    strides=1,\n",
      "    padding='SAME',\n",
      "    input_dilation=1,\n",
      "    kernel_dilation=1,\n",
      "    feature_group_count=1,\n",
      "    use_bias=True,\n",
      "    mask=None,\n",
      "    dtype=None,\n",
      "    param_dtype=<class 'jax.numpy.float32'>,\n",
      "    precision=None,\n",
      "    kernel_init=<function variance_scaling.<locals>.init at 0x31b0f9ee0>,\n",
      "    bias_init=<function zeros at 0x168b12f20>,\n",
      "    conv_general_dilated=<function conv_general_dilated at 0x168533f60>\n",
      "  ), <function gelu at 0x168bfa3e0>, ConvTranspose(\n",
      "    kernel_size=(3, 3),\n",
      "    in_features=32,\n",
      "    out_features=1,\n",
      "    strides=2,\n",
      "    padding='SAME',\n",
      "    kernel_dilation=None,\n",
      "    use_bias=True,\n",
      "    mask=None,\n",
      "    dtype=None,\n",
      "    param_dtype=<class 'jax.numpy.float32'>,\n",
      "    precision=None,\n",
      "    kernel_init=<function variance_scaling.<locals>.init at 0x31b0f9ee0>,\n",
      "    bias_init=<function zeros at 0x168b12f20>,\n",
      "    transpose_kernel=False,\n",
      "    kernel_shape=(3, 3, 32, 1),\n",
      "    kernel=Param(\n",
      "      value=Array(shape=(3, 3, 32, 1), dtype=float32)\n",
      "    ),\n",
      "    bias=Param(\n",
      "      value=Array([0.], dtype=float32)\n",
      "    )\n",
      "  ), <PjitFunction of <function tanh at 0x16891a7a0>>]\n",
      ")\n"
     ]
    }
   ],
   "source": [
    "nnx.display(decoder)"
   ]
  },
  {
   "cell_type": "markdown",
   "metadata": {},
   "source": [
    "# AutoEncoder"
   ]
  },
  {
   "cell_type": "code",
   "execution_count": 12,
   "metadata": {},
   "outputs": [],
   "source": [
    "class AE(nnx.Module):\n",
    "\n",
    "    def __init__(self, din: int, demb: int, dout: int, *, rngs: nnx.Rngs):\n",
    "        self.encoder = Encoder(din, demb, rngs=rngs)\n",
    "        self.decoder = Decoder(demb, dout, rngs=rngs)\n",
    "\n",
    "    def encode(self, x):\n",
    "        return self.encoder(x)\n",
    "\n",
    "    def decode(self, x):\n",
    "        return self.decoder(x)\n",
    "\n",
    "    def __call__(self, x: jax.Array) -> jax.Array:\n",
    "        return compose(self.encode, self.decode)(x)"
   ]
  },
  {
   "cell_type": "code",
   "execution_count": 13,
   "metadata": {},
   "outputs": [
    {
     "data": {
      "text/plain": [
       "(100, 32, 32, 1)"
      ]
     },
     "execution_count": 13,
     "metadata": {},
     "output_type": "execute_result"
    }
   ],
   "source": [
    "# encoder_config=EncoderConfig(activation=nnx.tanh); decoder_config = DecoderConfig(activation=nnx.tanh)\n",
    "# model = AE(encoder_config=encoder_config, decoder_config=decoder_config, rngs=nnx.Rngs(0))\n",
    "\n",
    "model =  AE(din=IMAGE_SHAPE[-1], demb=EMBEDDING_DIM, dout=IMAGE_SHAPE[-1], rngs=nnx.Rngs(42))\n",
    "model(jnp.ones([BATCH_SIZE, *IMAGE_SHAPE])).shape"
   ]
  },
  {
   "cell_type": "code",
   "execution_count": 14,
   "metadata": {},
   "outputs": [
    {
     "name": "stdout",
     "output_type": "stream",
     "text": [
      "AE(\n",
      "  encoder=Encoder(\n",
      "    layers=[Conv(\n",
      "      kernel_shape=(3, 3, 1, 32),\n",
      "      kernel=Param(\n",
      "        value=Array(shape=(3, 3, 1, 32), dtype=float32)\n",
      "      ),\n",
      "      bias=Param(\n",
      "        value=Array(shape=(32,), dtype=float32)\n",
      "      ),\n",
      "      in_features=1,\n",
      "      out_features=32,\n",
      "      kernel_size=(3, 3),\n",
      "      strides=2,\n",
      "      padding='SAME',\n",
      "      input_dilation=1,\n",
      "      kernel_dilation=1,\n",
      "      feature_group_count=1,\n",
      "      use_bias=True,\n",
      "      mask=None,\n",
      "      dtype=None,\n",
      "      param_dtype=<class 'jax.numpy.float32'>,\n",
      "      precision=None,\n",
      "      kernel_init=<function variance_scaling.<locals>.init at 0x31b0f9ee0>,\n",
      "      bias_init=<function zeros at 0x168b12f20>,\n",
      "      conv_general_dilated=<function conv_general_dilated at 0x168533f60>\n",
      "    ), <function gelu at 0x168bfa3e0>, Conv(\n",
      "      kernel_shape=(3, 3, 32, 32),\n",
      "      kernel=Param(\n",
      "        value=Array(shape=(3, 3, 32, 32), dtype=float32)\n",
      "      ),\n",
      "      bias=Param(\n",
      "        value=Array(shape=(32,), dtype=float32)\n",
      "      ),\n",
      "      in_features=32,\n",
      "      out_features=32,\n",
      "      kernel_size=(3, 3),\n",
      "      strides=1,\n",
      "      padding='SAME',\n",
      "      input_dilation=1,\n",
      "      kernel_dilation=1,\n",
      "      feature_group_count=1,\n",
      "      use_bias=True,\n",
      "      mask=None,\n",
      "      dtype=None,\n",
      "      param_dtype=<class 'jax.numpy.float32'>,\n",
      "      precision=None,\n",
      "      kernel_init=<function variance_scaling.<locals>.init at 0x31b0f9ee0>,\n",
      "      bias_init=<function zeros at 0x168b12f20>,\n",
      "      conv_general_dilated=<function conv_general_dilated at 0x168533f60>\n",
      "    ), <function gelu at 0x168bfa3e0>, Conv(\n",
      "      kernel_shape=(3, 3, 32, 64),\n",
      "      kernel=Param(\n",
      "        value=Array(shape=(3, 3, 32, 64), dtype=float32)\n",
      "      ),\n",
      "      bias=Param(\n",
      "        value=Array(shape=(64,), dtype=float32)\n",
      "      ),\n",
      "      in_features=32,\n",
      "      out_features=64,\n",
      "      kernel_size=(3, 3),\n",
      "      strides=2,\n",
      "      padding='SAME',\n",
      "      input_dilation=1,\n",
      "      kernel_dilation=1,\n",
      "      feature_group_count=1,\n",
      "      use_bias=True,\n",
      "      mask=None,\n",
      "      dtype=None,\n",
      "      param_dtype=<class 'jax.numpy.float32'>,\n",
      "      precision=None,\n",
      "      kernel_init=<function variance_scaling.<locals>.init at 0x31b0f9ee0>,\n",
      "      bias_init=<function zeros at 0x168b12f20>,\n",
      "      conv_general_dilated=<function conv_general_dilated at 0x168533f60>\n",
      "    ), <function gelu at 0x168bfa3e0>, Conv(\n",
      "      kernel_shape=(3, 3, 64, 64),\n",
      "      kernel=Param(\n",
      "        value=Array(shape=(3, 3, 64, 64), dtype=float32)\n",
      "      ),\n",
      "      bias=Param(\n",
      "        value=Array(shape=(64,), dtype=float32)\n",
      "      ),\n",
      "      in_features=64,\n",
      "      out_features=64,\n",
      "      kernel_size=(3, 3),\n",
      "      strides=1,\n",
      "      padding='SAME',\n",
      "      input_dilation=1,\n",
      "      kernel_dilation=1,\n",
      "      feature_group_count=1,\n",
      "      use_bias=True,\n",
      "      mask=None,\n",
      "      dtype=None,\n",
      "      param_dtype=<class 'jax.numpy.float32'>,\n",
      "      precision=None,\n",
      "      kernel_init=<function variance_scaling.<locals>.init at 0x31b0f9ee0>,\n",
      "      bias_init=<function zeros at 0x168b12f20>,\n",
      "      conv_general_dilated=<function conv_general_dilated at 0x168533f60>\n",
      "    ), <function gelu at 0x168bfa3e0>, Conv(\n",
      "      kernel_shape=(3, 3, 64, 128),\n",
      "      kernel=Param(\n",
      "        value=Array(shape=(3, 3, 64, 128), dtype=float32)\n",
      "      ),\n",
      "      bias=Param(\n",
      "        value=Array(shape=(128,), dtype=float32)\n",
      "      ),\n",
      "      in_features=64,\n",
      "      out_features=128,\n",
      "      kernel_size=(3, 3),\n",
      "      strides=2,\n",
      "      padding='SAME',\n",
      "      input_dilation=1,\n",
      "      kernel_dilation=1,\n",
      "      feature_group_count=1,\n",
      "      use_bias=True,\n",
      "      mask=None,\n",
      "      dtype=None,\n",
      "      param_dtype=<class 'jax.numpy.float32'>,\n",
      "      precision=None,\n",
      "      kernel_init=<function variance_scaling.<locals>.init at 0x31b0f9ee0>,\n",
      "      bias_init=<function zeros at 0x168b12f20>,\n",
      "      conv_general_dilated=<function conv_general_dilated at 0x168533f60>\n",
      "    ), <function gelu at 0x168bfa3e0>, <function Encoder.__init__.<locals>.<lambda> at 0x37388d6c0>, Linear(\n",
      "      kernel=Param(\n",
      "        value=Array(shape=(2048, 2), dtype=float32)\n",
      "      ),\n",
      "      bias=Param(\n",
      "        value=Array(shape=(2,), dtype=float32)\n",
      "      ),\n",
      "      in_features=2048,\n",
      "      out_features=2,\n",
      "      use_bias=True,\n",
      "      dtype=None,\n",
      "      param_dtype=<class 'jax.numpy.float32'>,\n",
      "      precision=None,\n",
      "      kernel_init=<function variance_scaling.<locals>.init at 0x31b0f9ee0>,\n",
      "      bias_init=<function zeros at 0x168b12f20>,\n",
      "      dot_general=<function dot_general at 0x1684a4a40>\n",
      "    )]\n",
      "  ),\n",
      "  decoder=Decoder(\n",
      "    layers=[Linear(\n",
      "      kernel=Param(\n",
      "        value=Array(shape=(2, 2048), dtype=float32)\n",
      "      ),\n",
      "      bias=Param(\n",
      "        value=Array(shape=(2048,), dtype=float32)\n",
      "      ),\n",
      "      in_features=2,\n",
      "      out_features=2048,\n",
      "      use_bias=True,\n",
      "      dtype=None,\n",
      "      param_dtype=<class 'jax.numpy.float32'>,\n",
      "      precision=None,\n",
      "      kernel_init=<function variance_scaling.<locals>.init at 0x31b0f9ee0>,\n",
      "      bias_init=<function zeros at 0x168b12f20>,\n",
      "      dot_general=<function dot_general at 0x1684a4a40>\n",
      "    ), <function gelu at 0x168bfa3e0>, <function Decoder.__init__.<locals>.<lambda> at 0x370a86840>, ConvTranspose(\n",
      "      kernel_size=(3, 3),\n",
      "      in_features=128,\n",
      "      out_features=64,\n",
      "      strides=2,\n",
      "      padding='SAME',\n",
      "      kernel_dilation=None,\n",
      "      use_bias=True,\n",
      "      mask=None,\n",
      "      dtype=None,\n",
      "      param_dtype=<class 'jax.numpy.float32'>,\n",
      "      precision=None,\n",
      "      kernel_init=<function variance_scaling.<locals>.init at 0x31b0f9ee0>,\n",
      "      bias_init=<function zeros at 0x168b12f20>,\n",
      "      transpose_kernel=False,\n",
      "      kernel_shape=(3, 3, 128, 64),\n",
      "      kernel=Param(\n",
      "        value=Array(shape=(3, 3, 128, 64), dtype=float32)\n",
      "      ),\n",
      "      bias=Param(\n",
      "        value=Array(shape=(64,), dtype=float32)\n",
      "      )\n",
      "    ), <function gelu at 0x168bfa3e0>, Conv(\n",
      "      kernel_shape=(3, 3, 64, 64),\n",
      "      kernel=Param(\n",
      "        value=Array(shape=(3, 3, 64, 64), dtype=float32)\n",
      "      ),\n",
      "      bias=Param(\n",
      "        value=Array(shape=(64,), dtype=float32)\n",
      "      ),\n",
      "      in_features=64,\n",
      "      out_features=64,\n",
      "      kernel_size=(3, 3),\n",
      "      strides=1,\n",
      "      padding='SAME',\n",
      "      input_dilation=1,\n",
      "      kernel_dilation=1,\n",
      "      feature_group_count=1,\n",
      "      use_bias=True,\n",
      "      mask=None,\n",
      "      dtype=None,\n",
      "      param_dtype=<class 'jax.numpy.float32'>,\n",
      "      precision=None,\n",
      "      kernel_init=<function variance_scaling.<locals>.init at 0x31b0f9ee0>,\n",
      "      bias_init=<function zeros at 0x168b12f20>,\n",
      "      conv_general_dilated=<function conv_general_dilated at 0x168533f60>\n",
      "    ), <function gelu at 0x168bfa3e0>, ConvTranspose(\n",
      "      kernel_size=(3, 3),\n",
      "      in_features=64,\n",
      "      out_features=32,\n",
      "      strides=2,\n",
      "      padding='SAME',\n",
      "      kernel_dilation=None,\n",
      "      use_bias=True,\n",
      "      mask=None,\n",
      "      dtype=None,\n",
      "      param_dtype=<class 'jax.numpy.float32'>,\n",
      "      precision=None,\n",
      "      kernel_init=<function variance_scaling.<locals>.init at 0x31b0f9ee0>,\n",
      "      bias_init=<function zeros at 0x168b12f20>,\n",
      "      transpose_kernel=False,\n",
      "      kernel_shape=(3, 3, 64, 32),\n",
      "      kernel=Param(\n",
      "        value=Array(shape=(3, 3, 64, 32), dtype=float32)\n",
      "      ),\n",
      "      bias=Param(\n",
      "        value=Array(shape=(32,), dtype=float32)\n",
      "      )\n",
      "    ), <function gelu at 0x168bfa3e0>, Conv(\n",
      "      kernel_shape=(3, 3, 32, 32),\n",
      "      kernel=Param(\n",
      "        value=Array(shape=(3, 3, 32, 32), dtype=float32)\n",
      "      ),\n",
      "      bias=Param(\n",
      "        value=Array(shape=(32,), dtype=float32)\n",
      "      ),\n",
      "      in_features=32,\n",
      "      out_features=32,\n",
      "      kernel_size=(3, 3),\n",
      "      strides=1,\n",
      "      padding='SAME',\n",
      "      input_dilation=1,\n",
      "      kernel_dilation=1,\n",
      "      feature_group_count=1,\n",
      "      use_bias=True,\n",
      "      mask=None,\n",
      "      dtype=None,\n",
      "      param_dtype=<class 'jax.numpy.float32'>,\n",
      "      precision=None,\n",
      "      kernel_init=<function variance_scaling.<locals>.init at 0x31b0f9ee0>,\n",
      "      bias_init=<function zeros at 0x168b12f20>,\n",
      "      conv_general_dilated=<function conv_general_dilated at 0x168533f60>\n",
      "    ), <function gelu at 0x168bfa3e0>, ConvTranspose(\n",
      "      kernel_size=(3, 3),\n",
      "      in_features=32,\n",
      "      out_features=1,\n",
      "      strides=2,\n",
      "      padding='SAME',\n",
      "      kernel_dilation=None,\n",
      "      use_bias=True,\n",
      "      mask=None,\n",
      "      dtype=None,\n",
      "      param_dtype=<class 'jax.numpy.float32'>,\n",
      "      precision=None,\n",
      "      kernel_init=<function variance_scaling.<locals>.init at 0x31b0f9ee0>,\n",
      "      bias_init=<function zeros at 0x168b12f20>,\n",
      "      transpose_kernel=False,\n",
      "      kernel_shape=(3, 3, 32, 1),\n",
      "      kernel=Param(\n",
      "        value=Array(shape=(3, 3, 32, 1), dtype=float32)\n",
      "      ),\n",
      "      bias=Param(\n",
      "        value=Array([0.], dtype=float32)\n",
      "      )\n",
      "    ), <PjitFunction of <function tanh at 0x16891a7a0>>]\n",
      "  )\n",
      ")\n"
     ]
    }
   ],
   "source": [
    "nnx.display(model)"
   ]
  },
  {
   "cell_type": "markdown",
   "metadata": {},
   "source": [
    "# Optimizer"
   ]
  },
  {
   "cell_type": "code",
   "execution_count": 15,
   "metadata": {},
   "outputs": [],
   "source": [
    "import optax\n",
    "\n",
    "# lr_schedule = optax.warmup_cosine_decay_schedule(\n",
    "#     init_value=0.0,\n",
    "#     peak_value=1e-3,\n",
    "#     warmup_steps=100,\n",
    "#     decay_steps=500*len(train_ds),\n",
    "#     end_value=1e-5\n",
    "# )\n",
    "# optimizer = nnx.Optimizer(\n",
    "#     model,\n",
    "#     optax.chain(\n",
    "#         optax.clip(1.0),  # Clip gradients at 1\n",
    "#         optax.adam(lr_schedule)\n",
    "#     )\n",
    "# )\n",
    "\n",
    "optimizer = nnx.Optimizer(model, optax.adam(LEARNING_RATE))\n",
    "metric = nnx.metrics.Average()"
   ]
  },
  {
   "cell_type": "markdown",
   "metadata": {},
   "source": [
    "# Define training steps"
   ]
  },
  {
   "cell_type": "code",
   "execution_count": 16,
   "metadata": {},
   "outputs": [],
   "source": [
    "def loss_fn(model: AE, batch: jax.Array):\n",
    "    preds = model(batch[\"image\"])\n",
    "    loss = optax.squared_error(preds, batch[\"image\"]).mean(axis=0).sum()\n",
    "    return loss"
   ]
  },
  {
   "cell_type": "code",
   "execution_count": 17,
   "metadata": {},
   "outputs": [],
   "source": [
    "@nnx.jit\n",
    "def train_step(model: AE, optimizer: nnx.Optimizer, metric: nnx.Metric, batch: jax.Array):\n",
    "    grad_fn = nnx.value_and_grad(loss_fn, has_aux=False)\n",
    "    loss, grads = grad_fn(model, batch)\n",
    "    metric.update(values=loss)\n",
    "    optimizer.update(grads)\n",
    "\n",
    "@nnx.jit\n",
    "def eval_step(model: AE, metric: nnx.Metric, batch: jax.Array):\n",
    "    loss = loss_fn(model, batch)\n",
    "    metric.update(values=loss)"
   ]
  },
  {
   "cell_type": "markdown",
   "metadata": {},
   "source": [
    "# Train and evaluate the model"
   ]
  },
  {
   "cell_type": "code",
   "execution_count": 18,
   "metadata": {},
   "outputs": [
    {
     "name": "stdout",
     "output_type": "stream",
     "text": [
      "[train] epoch: 1\n",
      "\ttrain loss: 825.2299 \ttest_loss: 827.5854\n",
      "[train] epoch: 2\n",
      "\ttrain loss: 816.3372 \ttest_loss: 781.5227\n",
      "[train] epoch: 3\n",
      "\ttrain loss: 731.0769 \ttest_loss: 708.0895\n",
      "[train] epoch: 4\n",
      "\ttrain loss: 706.3828 \ttest_loss: 693.8467\n",
      "[train] epoch: 5\n",
      "\ttrain loss: 685.2762 \ttest_loss: 683.5820\n",
      "[train] epoch: 6\n",
      "\ttrain loss: 683.2951 \ttest_loss: 683.5822\n",
      "[train] epoch: 7\n",
      "\ttrain loss: 683.4478 \ttest_loss: 683.5823\n",
      "[train] epoch: 8\n",
      "\ttrain loss: 679.7559 \ttest_loss: 679.5820\n",
      "[train] epoch: 9\n",
      "\ttrain loss: 679.4828 \ttest_loss: 679.5821\n",
      "[train] epoch: 10\n",
      "\ttrain loss: 679.2103 \ttest_loss: 679.5823\n",
      "[train] epoch: 11\n",
      "\ttrain loss: 679.3269 \ttest_loss: 679.5820\n",
      "[train] epoch: 12\n",
      "\ttrain loss: 654.9154 \ttest_loss: 651.5819\n",
      "[train] epoch: 13\n",
      "\ttrain loss: 651.3704 \ttest_loss: 651.5821\n",
      "[train] epoch: 14\n",
      "\ttrain loss: 651.4285 \ttest_loss: 651.5821\n",
      "[train] epoch: 15\n",
      "\ttrain loss: 651.4874 \ttest_loss: 651.5821\n",
      "[train] epoch: 16\n",
      "\ttrain loss: 651.5742 \ttest_loss: 651.5822\n",
      "[train] epoch: 17\n",
      "\ttrain loss: 651.1543 \ttest_loss: 651.5822\n",
      "[train] epoch: 18\n",
      "\ttrain loss: 651.6146 \ttest_loss: 651.5822\n",
      "[train] epoch: 19\n",
      "\ttrain loss: 651.3456 \ttest_loss: 651.5820\n",
      "[train] epoch: 20\n",
      "\ttrain loss: 651.4605 \ttest_loss: 651.5820\n"
     ]
    }
   ],
   "source": [
    "metric_history = {\n",
    "    \"train_loss\": [],\n",
    "    \"test_loss\": [],\n",
    "}\n",
    "\n",
    "num_steps_per_epoch = train_ds.cardinality() // NUM_EPOCH\n",
    "\n",
    "for step, batch in enumerate(train_ds.as_numpy_iterator(), start=1):\n",
    "\n",
    "    train_step(model, optimizer, metric, batch)\n",
    "\n",
    "    if step % num_steps_per_epoch == 0:\n",
    "\n",
    "        # Log the training metric.\n",
    "        value = metric.compute()\n",
    "        metric_history[f\"train_loss\"].append(value)  # Record the metric.\n",
    "        metric.reset()  # Reset the metric for the test set.\n",
    "\n",
    "        # Compute the metric on the test set after each training epoch.\n",
    "        for test_batch in test_ds.as_numpy_iterator():\n",
    "            eval_step(model, metric, test_batch)\n",
    "\n",
    "        # Log the test metric.\n",
    "        value = metric.compute()\n",
    "        metric_history[f'test_loss'].append(value)\n",
    "        metric.reset()  # Reset the metric for the next training epoch.\n",
    "\n",
    "        print(\n",
    "            f\"[train] epoch: {step // num_steps_per_epoch}\"\n",
    "        )\n",
    "\n",
    "        print(\n",
    "            f\"\\ttrain loss: {metric_history['train_loss'][-1]:.4f}\",\n",
    "            f\"\\ttest_loss: {metric_history['test_loss'][-1]:.4f}\"\n",
    "        )\n"
   ]
  },
  {
   "cell_type": "code",
   "execution_count": 19,
   "metadata": {},
   "outputs": [
    {
     "data": {
      "image/png": "[encoded data removed]",
      "text/plain": [
       "<Figure size 550x500 with 1 Axes>"
      ]
     },
     "metadata": {},
     "output_type": "display_data"
    }
   ],
   "source": [
    "import matplotlib.pyplot as plt  # Visualization\n",
    "\n",
    "# Plot loss and accuracy in subplots\n",
    "fig = plt.figure(figsize=(5.5, 5))\n",
    "plt.title('Loss')\n",
    "for dataset in ('train', 'test'):\n",
    "    plt.plot(metric_history[f'{dataset}_loss'], label=f'{dataset}_loss')\n",
    "fig.legend()\n",
    "plt.show()"
   ]
  },
  {
   "cell_type": "markdown",
   "metadata": {},
   "source": [
    "# Reconstruction"
   ]
  },
  {
   "cell_type": "code",
   "execution_count": 20,
   "metadata": {},
   "outputs": [
    {
     "data": {
      "image/png": "[encoded data removed]",
      "text/plain": [
       "<Figure size 800x600 with 10 Axes>"
      ]
     },
     "metadata": {},
     "output_type": "display_data"
    }
   ],
   "source": [
    "test_examples = test_batch['image']\n",
    "display(test_examples)"
   ]
  },
  {
   "cell_type": "code",
   "execution_count": 21,
   "metadata": {},
   "outputs": [
    {
     "data": {
      "image/png": "[encoded data removed]",
      "text/plain": [
       "<Figure size 800x600 with 10 Axes>"
      ]
     },
     "metadata": {},
     "output_type": "display_data"
    }
   ],
   "source": [
    "reconstructions = nnx.sigmoid(model(test_examples))\n",
    "display(reconstructions)"
   ]
  },
  {
   "cell_type": "markdown",
   "metadata": {},
   "source": [
    "# Visualising the embedding space"
   ]
  },
  {
   "cell_type": "code",
   "execution_count": 22,
   "metadata": {},
   "outputs": [
    {
     "data": {
      "image/png": "[encoded data removed]",
      "text/plain": [
       "<Figure size 550x550 with 1 Axes>"
      ]
     },
     "metadata": {},
     "output_type": "display_data"
    }
   ],
   "source": [
    "embeddings = model.encode(test_batch[\"image\"])\n",
    "plt.figure(figsize=(5.5, 5.5))\n",
    "plt.scatter(embeddings[:, 0], embeddings[:, 1], c=\"black\", alpha=0.5, s=3)\n",
    "plt.show()"
   ]
  },
  {
   "cell_type": "markdown",
   "metadata": {},
   "source": [
    "# Reconstruction"
   ]
  },
  {
   "cell_type": "code",
   "execution_count": 23,
   "metadata": {},
   "outputs": [],
   "source": [
    "import numpy as np\n",
    "\n",
    "def get_samples(ds, num_samples=10):\n",
    "    example_images = []; example_labels = []\n",
    "    for i, samples in enumerate(ds.as_numpy_iterator()):\n",
    "        example_images.append(samples[\"image\"])\n",
    "        example_labels.append(samples[\"label\"])\n",
    "\n",
    "        if i * BATCH_SIZE >= num_samples:\n",
    "            break\n",
    "    return np.vstack(example_images)[:n_to_predict], np.hstack(example_labels)[:n_to_predict]\n",
    "\n",
    "n_to_predict = 5_000\n",
    "example_images, example_labels = get_samples(test_ds, num_samples=n_to_predict)\n",
    "\n",
    "embeddings = model.encode(example_images)"
   ]
  },
  {
   "cell_type": "code",
   "execution_count": 24,
   "metadata": {},
   "outputs": [
    {
     "data": {
      "image/png": "[encoded data removed]",
      "text/plain": [
       "<Figure size 600x480 with 2 Axes>"
      ]
     },
     "metadata": {},
     "output_type": "display_data"
    }
   ],
   "source": [
    "embeddings = model.encode(example_images)\n",
    "\n",
    "figsize = 6\n",
    "plt.figure(figsize=(figsize, figsize*0.8))\n",
    "plt.scatter(\n",
    "    embeddings[:, 0],\n",
    "    embeddings[:, 1],\n",
    "    cmap=\"rainbow\",\n",
    "    c=example_labels,\n",
    "    alpha=0.8,\n",
    "    s=3,\n",
    ")\n",
    "plt.colorbar()\n",
    "plt.show()"
   ]
  },
  {
   "cell_type": "markdown",
   "metadata": {},
   "source": [
    "## Generating new images"
   ]
  },
  {
   "cell_type": "code",
   "execution_count": 25,
   "metadata": {},
   "outputs": [],
   "source": [
    "mins, maxs = np.min(embeddings, axis=0), np.max(embeddings, axis=0)\n",
    "\n",
    "# Sample some points in the latent space\n",
    "grid_width, grid_height = (5, 2)\n",
    "rnd_sample = np.random.uniform(\n",
    "    mins, maxs, size=(grid_width * grid_height, EMBEDDING_DIM)\n",
    ")"
   ]
  },
  {
   "cell_type": "code",
   "execution_count": 26,
   "metadata": {},
   "outputs": [
    {
     "data": {
      "image/png": "[encoded data removed]",
      "text/plain": [
       "<Figure size 800x600 with 10 Axes>"
      ]
     },
     "metadata": {},
     "output_type": "display_data"
    }
   ],
   "source": [
    "reconstructions = model.decode(rnd_sample).reshape(-1, *IMAGE_SHAPE)\n",
    "display(reconstructions)"
   ]
  },
  {
   "cell_type": "code",
   "execution_count": 27,
   "metadata": {},
   "outputs": [
    {
     "data": {
      "image/png": "[encoded data removed]",
      "text/plain": [
       "<Figure size 550x550 with 1 Axes>"
      ]
     },
     "metadata": {},
     "output_type": "display_data"
    },
    {
     "data": {
      "image/png": "[encoded data removed]",
      "text/plain": [
       "<Figure size 550x200 with 10 Axes>"
      ]
     },
     "metadata": {},
     "output_type": "display_data"
    }
   ],
   "source": [
    "# Draw a plot of...\n",
    "figsize = 5.5\n",
    "plt.figure(figsize=(figsize, figsize))\n",
    "\n",
    "# ... the original embeddings ...\n",
    "plt.scatter(embeddings[:, 0], embeddings[:, 1], c=\"black\", alpha=0.5, s=2)\n",
    "\n",
    "# ... and the newly generated points in the latent space\n",
    "plt.scatter(rnd_sample[:, 0], rnd_sample[:, 1], c=\"#00B0F0\", alpha=1, s=40)\n",
    "plt.show()\n",
    "\n",
    "# Add underneath a grid of the decoded images\n",
    "fig = plt.figure(figsize=(figsize, grid_height))\n",
    "fig.subplots_adjust(hspace=0.4, wspace=0.4)\n",
    "\n",
    "for i in range(grid_width * grid_height):\n",
    "    ax = fig.add_subplot(grid_height, grid_width, i + 1)\n",
    "    ax.axis(\"off\")\n",
    "    ax.text(\n",
    "        0.5,\n",
    "        -0.35,\n",
    "        str(np.round(rnd_sample[i, :], 1)),\n",
    "        fontsize=10,\n",
    "        ha=\"center\",\n",
    "        transform=ax.transAxes,\n",
    "    )\n",
    "    ax.imshow(reconstructions[i, :, :], cmap=\"Greys\")"
   ]
  }
 ],
 "metadata": {
  "kernelspec": {
   "display_name": ".venv-py312",
   "language": "python",
   "name": "python3"
  },
  "language_info": {
   "codemirror_mode": {
    "name": "ipython",
    "version": 3
   },
   "file_extension": ".py",
   "mimetype": "text/x-python",
   "name": "python",
   "nbconvert_exporter": "python",
   "pygments_lexer": "ipython3",
   "version": "3.12.7"
  }
 },
 "nbformat": 4,
 "nbformat_minor": 2
}
